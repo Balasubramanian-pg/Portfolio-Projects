{
 "cells": [
  {
   "cell_type": "code",
   "execution_count": 2,
   "metadata": {},
   "outputs": [
    {
     "name": "stdout",
     "output_type": "stream",
     "text": [
      "Dataset created and saved successfully at C:\\Users\\ASUS\\Videos\\OCR Table\\hotel_reviews_dataset.csv!\n"
     ]
    }
   ],
   "source": [
    "import os\n",
    "import random\n",
    "import pandas as pd\n",
    "from datetime import datetime, timedelta\n",
    "\n",
    "# Parameters\n",
    "hotel_count = 50\n",
    "review_count = 10000\n",
    "start_date = datetime(2022, 1, 1)\n",
    "end_date = datetime(2023, 12, 31)\n",
    "\n",
    "# Helper functions\n",
    "def random_date(start, end):\n",
    "    return start + timedelta(days=random.randint(0, (end - start).days))\n",
    "\n",
    "# Sample data\n",
    "hotel_names = [f\"Hotel {i+1}\" for i in range(hotel_count)]\n",
    "review_text_pool = {\n",
    "    \"positive\": [\"Excellent service!\", \"Very clean and comfortable.\", \"Highly recommend this place.\"],\n",
    "    \"neutral\": [\"It was okay.\", \"Average experience.\", \"Could be better.\"],\n",
    "    \"negative\": [\"Terrible service!\", \"Room was dirty.\", \"Not worth the price.\"]\n",
    "}\n",
    "\n",
    "# Generate dataset\n",
    "data = []\n",
    "for _ in range(review_count):\n",
    "    hotel_id = f\"H{random.randint(1, hotel_count):03}\"\n",
    "    hotel_name = hotel_names[int(hotel_id[1:]) - 1]\n",
    "    review_id = f\"R{_ + 1:05}\"\n",
    "    rating = random.randint(1, 5)\n",
    "    sentiment = (\n",
    "        \"positive\" if rating >= 4 else \"neutral\" if rating == 3 else \"negative\"\n",
    "    )\n",
    "    review_text = random.choice(review_text_pool[sentiment])\n",
    "    date = random_date(start_date, end_date).strftime(\"%Y-%m-%d\")\n",
    "    ghost_review = random.choice([True, False])\n",
    "    business_status = random.choice([\"active\", \"inactive\"])\n",
    "    data.append(\n",
    "        [hotel_id, hotel_name, review_id, review_text, rating, date, sentiment, ghost_review, business_status]\n",
    "    )\n",
    "\n",
    "# Create DataFrame\n",
    "columns = [\"Hotel ID\", \"Hotel Name\", \"Review ID\", \"Review Text\", \"Rating\", \"Date\", \"Sentiment\", \"Ghost Review\", \"Business Status\"]\n",
    "df = pd.DataFrame(data, columns=columns)\n",
    "\n",
    "# Define save path\n",
    "save_path = r\"C:\\Users\\ASUS\\Videos\\OCR Table\"\n",
    "\n",
    "# Ensure directory exists\n",
    "os.makedirs(save_path, exist_ok=True)\n",
    "\n",
    "# Save to CSV\n",
    "file_name = \"hotel_reviews_dataset.csv\"\n",
    "full_path = os.path.join(save_path, file_name)\n",
    "df.to_csv(full_path, index=False)\n",
    "print(f\"Dataset created and saved successfully at {full_path}!\")\n"
   ]
  }
 ],
 "metadata": {
  "kernelspec": {
   "display_name": "Python 3",
   "language": "python",
   "name": "python3"
  },
  "language_info": {
   "codemirror_mode": {
    "name": "ipython",
    "version": 3
   },
   "file_extension": ".py",
   "mimetype": "text/x-python",
   "name": "python",
   "nbconvert_exporter": "python",
   "pygments_lexer": "ipython3",
   "version": "3.12.4"
  }
 },
 "nbformat": 4,
 "nbformat_minor": 2
}
