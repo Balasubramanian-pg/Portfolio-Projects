{
 "cells": [
  {
   "cell_type": "code",
   "execution_count": 2,
   "metadata": {},
   "outputs": [
    {
     "name": "stdout",
     "output_type": "stream",
     "text": [
      "Urban Parking Optimization dataset created and saved successfully at C:\\Users\\ASUS\\Videos\\OCR Table\\urban_parking_dataset.xlsx!\n"
     ]
    }
   ],
   "source": [
    "import pandas as pd\n",
    "import numpy as np\n",
    "\n",
    "# File path\n",
    "file_path = r\"C:\\Users\\ASUS\\Videos\\OCR Table\\urban_parking_dataset.xlsx\"\n",
    "\n",
    "# Dataset Parameters\n",
    "days_in_year = 365\n",
    "transactions_per_day = 200  # Adjusted number of daily transactions\n",
    "total_transactions = days_in_year * transactions_per_day\n",
    "\n",
    "# Generate sample data\n",
    "parking_spots_df = pd.DataFrame({\n",
    "    \"ID\": range(1, 10001),\n",
    "    \"Location\": np.random.choice([\"Downtown\", \"Suburb\", \"Airport\"], 10000),\n",
    "    \"Capacity\": np.random.randint(10, 100, 10000),\n",
    "    \"Type\": np.random.choice([\"On-street\", \"Off-street\", \"Handicapped\"], 10000),\n",
    "    \"Availability\": np.random.choice([True, False], 10000)\n",
    "})\n",
    "\n",
    "predictive_df = pd.DataFrame({\n",
    "    \"Date\": pd.date_range(start=\"2023-01-01\", periods=days_in_year),\n",
    "    \"Time\": np.random.choice([\"Morning\", \"Afternoon\", \"Evening\", \"Night\"], days_in_year),\n",
    "    \"Forecasted Demand\": np.random.randint(50, 500, days_in_year),\n",
    "    \"Confidence Interval\": [f\"{x}-{x+10}\" for x in np.random.randint(50, 490, days_in_year)],\n",
    "    \"Event\": np.random.choice([\"Concert\", \"Sports Game\", \"Festival\", \"None\"], days_in_year),\n",
    "    \"Weather\": np.random.choice([\"Sunny\", \"Rainy\", \"Snowy\"], days_in_year)\n",
    "})\n",
    "\n",
    "driver_behavior_df = pd.DataFrame({\n",
    "    \"ID\": range(1, 1001),\n",
    "    \"Search Time\": np.random.randint(1, 30, 1000),\n",
    "    \"Fuel Consumption\": np.random.uniform(0.1, 2.5, 1000).round(2),\n",
    "    \"Parking Preference\": np.random.choice([\"Closest\", \"Cheapest\"], 1000),\n",
    "    \"Payment Method\": np.random.choice([\"Credit Card\", \"PayPal\", \"Cash\"], 1000)\n",
    "})\n",
    "\n",
    "revenue_df = pd.DataFrame({\n",
    "    \"Date\": pd.date_range(start=\"2023-01-01\", periods=days_in_year).repeat(transactions_per_day),\n",
    "    \"Time\": np.random.choice([\"Morning\", \"Afternoon\", \"Evening\", \"Night\"], total_transactions),\n",
    "    \"Transaction Amount\": np.random.uniform(5, 50, total_transactions).round(2),\n",
    "    \"Payment Method\": np.random.choice([\"Credit Card\", \"PayPal\", \"Cash\"], total_transactions),\n",
    "    \"Revenue Stream\": np.random.choice([\"Parking Fees\", \"Advertising\"], total_transactions)\n",
    "})\n",
    "\n",
    "# Save data to Excel\n",
    "with pd.ExcelWriter(file_path, engine='xlsxwriter') as writer:\n",
    "    parking_spots_df.to_excel(writer, sheet_name=\"Parking Spots\", index=False)\n",
    "    predictive_df.to_excel(writer, sheet_name=\"Predictive Analytics\", index=False)\n",
    "    driver_behavior_df.to_excel(writer, sheet_name=\"Driver Behavior\", index=False)\n",
    "    revenue_df.to_excel(writer, sheet_name=\"Revenue Data\", index=False)\n",
    "\n",
    "print(f\"Urban Parking Optimization dataset created and saved successfully at {file_path}!\")\n"
   ]
  }
 ],
 "metadata": {
  "kernelspec": {
   "display_name": "Python 3",
   "language": "python",
   "name": "python3"
  },
  "language_info": {
   "codemirror_mode": {
    "name": "ipython",
    "version": 3
   },
   "file_extension": ".py",
   "mimetype": "text/x-python",
   "name": "python",
   "nbconvert_exporter": "python",
   "pygments_lexer": "ipython3",
   "version": "3.12.4"
  }
 },
 "nbformat": 4,
 "nbformat_minor": 2
}
